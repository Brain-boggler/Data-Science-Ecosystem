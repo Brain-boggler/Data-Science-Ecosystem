{
 "cells": [
  {
   "cell_type": "markdown",
   "id": "8dd09146-4c91-45f1-bdd5-921494d08fe3",
   "metadata": {},
   "source": [
    "# Data Science Tools and Ecosystem"
   ]
  },
  {
   "cell_type": "markdown",
   "id": "ad29c1be-e258-447d-96ea-b78fa2a83fe8",
   "metadata": {},
   "source": [
    "# In this notebook, Data Science Tools and Ecosystem are summarized."
   ]
  },
  {
   "cell_type": "markdown",
   "id": "49b1a98b-0970-4a94-a80c-4fd078578278",
   "metadata": {},
   "source": [
    "# **Objectives**\n",
    "- some popular languages that data scientists use\n",
    "- libraries used by data scientists\n",
    "- list of data science tools"
   ]
  },
  {
   "cell_type": "markdown",
   "id": "2f322cd7-f7ab-4987-ac92-acd95ee20031",
   "metadata": {},
   "source": [
    "# Some of the popular languages that Data Scientists use are:"
   ]
  },
  {
   "cell_type": "markdown",
   "id": "6a38027e-b3a0-420f-92fa-9dc03fff7e29",
   "metadata": {},
   "source": [
    "1. Python\n",
    "2. R Language\n",
    "3. SQL"
   ]
  },
  {
   "cell_type": "markdown",
   "id": "17b8cf3e-4f54-4546-b763-70dce2673589",
   "metadata": {},
   "source": [
    "# Some of the commonly used libraries used by Data Scientists include:"
   ]
  },
  {
   "cell_type": "markdown",
   "id": "9f810b87-c094-454c-8d45-36b4e05e7460",
   "metadata": {},
   "source": [
    "1. Numpy\n",
    "2. pandas\n",
    "3. matplotlib\n",
    "4. scikit learn"
   ]
  },
  {
   "cell_type": "markdown",
   "id": "47ebf012-5acd-49b8-89ba-e8774e1fcf80",
   "metadata": {},
   "source": [
    "| Data Science Tools |\n",
    "|--------------------|\n",
    "| Jupyter Notebook   |\n",
    "| RStudio            |\n",
    "| Apache Zeppelin    |\n"
   ]
  },
  {
   "cell_type": "markdown",
   "id": "4eb6b2d4-39d2-438c-ab74-b6a5255a1919",
   "metadata": {},
   "source": [
    "### Below are a few examples of evaluating arithmetic expressions in Python."
   ]
  },
  {
   "cell_type": "code",
   "execution_count": 45,
   "id": "c4546f25-5f79-4331-a5e4-ada57fc37a01",
   "metadata": {},
   "outputs": [
    {
     "data": {
      "text/plain": [
       "17"
      ]
     },
     "execution_count": 45,
     "metadata": {},
     "output_type": "execute_result"
    }
   ],
   "source": [
    "#This a simple arithmetic expression to multiply then add integers\n",
    "(3*4)+5"
   ]
  },
  {
   "cell_type": "code",
   "execution_count": 47,
   "id": "5fea505e-26e8-4451-9866-f57b247e8823",
   "metadata": {},
   "outputs": [
    {
     "data": {
      "text/plain": [
       "3.3333333333333335"
      ]
     },
     "execution_count": 47,
     "metadata": {},
     "output_type": "execute_result"
    }
   ],
   "source": [
    "#This will convert 200 minutes to hours by diving by 60\n",
    "200/60"
   ]
  },
  {
   "cell_type": "markdown",
   "id": "f1a95fec-02bc-4527-bef2-7a4769d9dbe5",
   "metadata": {},
   "source": [
    "## Author\n",
    "Vishjeet Singh"
   ]
  },
  {
   "cell_type": "code",
   "execution_count": null,
   "id": "d6a40380-09c6-4737-9fa1-8a86735c53c7",
   "metadata": {},
   "outputs": [],
   "source": []
  }
 ],
 "metadata": {
  "kernelspec": {
   "display_name": "Python 3 (ipykernel)",
   "language": "python",
   "name": "python3"
  },
  "language_info": {
   "codemirror_mode": {
    "name": "ipython",
    "version": 3
   },
   "file_extension": ".py",
   "mimetype": "text/x-python",
   "name": "python",
   "nbconvert_exporter": "python",
   "pygments_lexer": "ipython3",
   "version": "3.12.4"
  }
 },
 "nbformat": 4,
 "nbformat_minor": 5
}
